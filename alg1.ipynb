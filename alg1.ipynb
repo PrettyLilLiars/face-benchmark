{
 "cells": [
  {
   "cell_type": "code",
   "execution_count": 7,
   "metadata": {},
   "outputs": [],
   "source": [
    "import tensorflow as tf\n",
    "import tensorflow_datasets as tfds\n",
    "\n",
    "from deepface import DeepFace\n",
    "from deepface.commons import functions\n",
    "\n",
    "from unet import UNet\n",
    "import lpips_tf"
   ]
  },
  {
   "cell_type": "markdown",
   "metadata": {},
   "source": [
    "# Algorithm 1: Ensemble attack training procedure\n",
    "Inputs:\n",
    "- Victim Models (F)\n",
    "- Image Dataset (X)\n",
    "\n",
    "Outputs:\n",
    "- Perturbation Engine (g_theta)\n",
    "\n",
    "HyperParams:\n",
    "- Learning rate (alpha)\n",
    "- L_inf bound (epsilon)\n",
    "- Lpips loss coefficient (lambda)"
   ]
  },
  {
   "cell_type": "markdown",
   "metadata": {},
   "source": [
    "## Inputs"
   ]
  },
  {
   "cell_type": "markdown",
   "metadata": {},
   "source": [
    "### Victim Models (F)"
   ]
  },
  {
   "cell_type": "code",
   "execution_count": null,
   "metadata": {},
   "outputs": [],
   "source": [
    "victim_models_labels = [\n",
    "  \"VGG-Face\", \n",
    "  \"Facenet\", \n",
    "  \"Facenet512\", \n",
    "  \"OpenFace\", \n",
    "  \"DeepFace\", \n",
    "  \"DeepID\", \n",
    "  \"ArcFace\", \n",
    "  \"SFace\"\n",
    "]\n",
    "\n",
    "F = set()\n",
    "\n",
    "for model_name in victim_models_labels:\n",
    "  F.add((DeepFace.build_model(model_name=model_name).model, functions.find_target_size(model_name)))\n",
    "  \n",
    "print(len(F))"
   ]
  },
  {
   "cell_type": "markdown",
   "metadata": {},
   "source": [
    "### Image Dataset (X)"
   ]
  },
  {
   "cell_type": "code",
   "execution_count": null,
   "metadata": {},
   "outputs": [],
   "source": [
    "ds, info = tfds.load('lfw',\n",
    "                      with_info=True,\n",
    "                      download=True,\n",
    "                      as_supervised=False)"
   ]
  },
  {
   "cell_type": "code",
   "execution_count": null,
   "metadata": {},
   "outputs": [],
   "source": [
    "ds = ds['train']"
   ]
  },
  {
   "cell_type": "markdown",
   "metadata": {},
   "source": [
    "## HyperParams"
   ]
  },
  {
   "cell_type": "code",
   "execution_count": null,
   "metadata": {},
   "outputs": [],
   "source": [
    "alpha = tf.Variable(0.2, trainable=False, name='alpha')"
   ]
  },
  {
   "cell_type": "code",
   "execution_count": null,
   "metadata": {},
   "outputs": [],
   "source": [
    "eps = tf.Variable(0.5, trainable=False, name='epsilon')"
   ]
  },
  {
   "cell_type": "code",
   "execution_count": null,
   "metadata": {},
   "outputs": [],
   "source": [
    "lda = tf.Variable(0.2, trainable=False, name='lambda')"
   ]
  },
  {
   "cell_type": "markdown",
   "metadata": {},
   "source": [
    "### Initialized ATN ($N_{theta}$)"
   ]
  },
  {
   "cell_type": "code",
   "execution_count": null,
   "metadata": {},
   "outputs": [],
   "source": [
    "model = UNet(input_size=(128,128,3), n_filters=32, n_classes=3)"
   ]
  },
  {
   "cell_type": "code",
   "execution_count": null,
   "metadata": {},
   "outputs": [],
   "source": [
    "model.summary()"
   ]
  },
  {
   "cell_type": "markdown",
   "metadata": {},
   "source": [
    "## Algorithm"
   ]
  },
  {
   "cell_type": "markdown",
   "metadata": {},
   "source": [
    "### Adversarial Noise\n",
    "$$ x_{adv} \\leftarrow clip_{[0,1]}(x + \\epsilon \\cdot \\tanh(N_\\theta(x))) $$"
   ]
  },
  {
   "cell_type": "code",
   "execution_count": null,
   "metadata": {},
   "outputs": [],
   "source": [
    "def addAdversarialNoise(x, eps, atn, training=True):\n",
    "  xadv = atn(x, training=training)\n",
    "  xadv = tf.tanh(xadv)\n",
    "  xadv = tf.multiply(eps, xadv)\n",
    "  xadv = tf.add(x, xadv)\n",
    "  xadv = tf.clip_by_value(xadv, 0, 1)\n",
    "  return xadv\n",
    "  # return tf.clip_by_value(tf.add(x, tf.multiply(eps, tf.tanh(atn(x)))), 0, 1)"
   ]
  },
  {
   "cell_type": "markdown",
   "metadata": {},
   "source": [
    "### Embeddings Loss\n",
    "$$\n",
    "loss \\leftarrow \\dfrac{1}{\\left\\|\\mathbb{F}\\right\\|} \\sum^{\\mathbb{F}}_{f} - \\dfrac{f(x) \\cdot f(x_{adv})} {\\left\\| f(x)\\right\\|_{2}\\left\\| f(x_{adv})\\right\\|_{2}}\n",
    "$$"
   ]
  },
  {
   "cell_type": "code",
   "execution_count": null,
   "metadata": {},
   "outputs": [],
   "source": [
    "def fCosineDistance(x, x_adv, f):\n",
    "  emb_t = f(x)\n",
    "  emb_adv = f(x_adv)\n",
    "  dist = tf.keras.losses.cosine_similarity(emb_t, emb_adv, axis=1)\n",
    "  dist = tf.negative(dist)\n",
    "  return dist"
   ]
  },
  {
   "cell_type": "code",
   "execution_count": null,
   "metadata": {},
   "outputs": [],
   "source": [
    "def FLoss(x, x_adv, loss, F):\n",
    "  N = len(F)\n",
    "  for f in F:\n",
    "    model = f[0]\n",
    "    in_shape = f[1]\n",
    "    #TODO: convert to right shape\n",
    "    loss = tf.add(loss, fCosineDistance(model, x, x_adv))\n",
    "  loss = tf.divide(loss, N)\n",
    "  return loss"
   ]
  },
  {
   "cell_type": "markdown",
   "metadata": {},
   "source": [
    "### Perceptual Loss ($L_{pips}$)\n",
    "$$\n",
    "loss \\leftarrow loss + \\lambda L_{pips}(x_{adv}, x)\n",
    "$$"
   ]
  },
  {
   "cell_type": "code",
   "execution_count": null,
   "metadata": {},
   "outputs": [],
   "source": [
    "def LpipsLoss(x, x_adv, loss, lda):\n",
    "  dist = lpips_tf.lpips(x_adv, x, model='net-lin', net='alex')\n",
    "  dist = tf.multiply(lda, dist)\n",
    "  loss = tf.add(loss, dist)\n",
    "  return loss"
   ]
  },
  {
   "cell_type": "markdown",
   "metadata": {},
   "source": [
    "### Loss Function"
   ]
  },
  {
   "cell_type": "code",
   "execution_count": null,
   "metadata": {},
   "outputs": [],
   "source": [
    "def atnLoss(x, x_adv, F, lda):\n",
    "  loss = tf.Variable(0, trainable=False, name='loss')\n",
    "  loss = FLoss(x, x_adv, loss, F)\n",
    "  loss = LpipsLoss(x, x_adv, loss, lda)\n",
    "  return loss"
   ]
  },
  {
   "cell_type": "markdown",
   "metadata": {},
   "source": [
    "## Train Loop"
   ]
  },
  {
   "cell_type": "code",
   "execution_count": null,
   "metadata": {},
   "outputs": [],
   "source": [
    "def train(X, F, model, optimizer, eps, lda):\n",
    "  for epoch in range(epoch):\n",
    "    print(\"\\nEpoch: %d\" % (epoch,))\n",
    "    for step, (x_batch) in enumerate(X):\n",
    "      # Open GradientTape to record ops run during forward pass for auto-differentiation\n",
    "      with tf.GradientTape() as tape:\n",
    "        # Forward pass of layer.\n",
    "        # Ops applied recorded on GradientTape\n",
    "        x_adv = addAdversarialNoise(x_batch, eps, model, True)\n",
    "        loss = atnLoss(x_batch, x_adv, F, lda)\n",
    "      \n",
    "      # Use gradient tape to retrieve grads of trainable variables wrt loss\n",
    "      grads = tape.gradient(loss, model.trainable_weights)\n",
    "      \n",
    "      # Gradient descent, update variables to minimize loss.\n",
    "      optimizer.apply_gradients(zip(grads, model.trainable_weights))\n",
    "      \n",
    "      if step % 200 == 0:\n",
    "        print(\n",
    "          \"Training loss (for one batch) at step %d: %.4f\"\n",
    "          % (step, float(loss))\n",
    "        )"
   ]
  },
  {
   "cell_type": "code",
   "execution_count": null,
   "metadata": {},
   "outputs": [],
   "source": [
    "model.compile(optimizer=tf.keras.optimizers.Adam(),\n",
    "              loss=atnLoss)"
   ]
  },
  {
   "cell_type": "code",
   "execution_count": 1,
   "metadata": {},
   "outputs": [
    {
     "name": "stderr",
     "output_type": "stream",
     "text": [
      "2024-02-12 21:18:55.957306: I tensorflow/core/util/port.cc:113] oneDNN custom operations are on. You may see slightly different numerical results due to floating-point round-off errors from different computation orders. To turn them off, set the environment variable `TF_ENABLE_ONEDNN_OPTS=0`.\n",
      "2024-02-12 21:18:55.994731: E external/local_xla/xla/stream_executor/cuda/cuda_dnn.cc:9261] Unable to register cuDNN factory: Attempting to register factory for plugin cuDNN when one has already been registered\n",
      "2024-02-12 21:18:55.994752: E external/local_xla/xla/stream_executor/cuda/cuda_fft.cc:607] Unable to register cuFFT factory: Attempting to register factory for plugin cuFFT when one has already been registered\n",
      "2024-02-12 21:18:55.995691: E external/local_xla/xla/stream_executor/cuda/cuda_blas.cc:1515] Unable to register cuBLAS factory: Attempting to register factory for plugin cuBLAS when one has already been registered\n",
      "2024-02-12 21:18:56.002020: I tensorflow/core/platform/cpu_feature_guard.cc:182] This TensorFlow binary is optimized to use available CPU instructions in performance-critical operations.\n",
      "To enable the following instructions: AVX2 AVX512F AVX512_VNNI FMA, in other operations, rebuild TensorFlow with the appropriate compiler flags.\n",
      "2024-02-12 21:18:56.867410: W tensorflow/compiler/tf2tensorrt/utils/py_utils.cc:38] TF-TRT Warning: Could not find TensorRT\n"
     ]
    }
   ],
   "source": [
    "from unet import AuraMask"
   ]
  },
  {
   "cell_type": "code",
   "execution_count": 2,
   "metadata": {},
   "outputs": [
    {
     "name": "stderr",
     "output_type": "stream",
     "text": [
      "2024-02-12 21:18:58.016643: I external/local_xla/xla/stream_executor/cuda/cuda_executor.cc:901] successful NUMA node read from SysFS had negative value (-1), but there must be at least one NUMA node, so returning NUMA node zero. See more at https://github.com/torvalds/linux/blob/v6.0/Documentation/ABI/testing/sysfs-bus-pci#L344-L355\n",
      "2024-02-12 21:18:58.051361: I external/local_xla/xla/stream_executor/cuda/cuda_executor.cc:901] successful NUMA node read from SysFS had negative value (-1), but there must be at least one NUMA node, so returning NUMA node zero. See more at https://github.com/torvalds/linux/blob/v6.0/Documentation/ABI/testing/sysfs-bus-pci#L344-L355\n",
      "2024-02-12 21:18:58.052764: I external/local_xla/xla/stream_executor/cuda/cuda_executor.cc:901] successful NUMA node read from SysFS had negative value (-1), but there must be at least one NUMA node, so returning NUMA node zero. See more at https://github.com/torvalds/linux/blob/v6.0/Documentation/ABI/testing/sysfs-bus-pci#L344-L355\n",
      "2024-02-12 21:18:58.056773: I external/local_xla/xla/stream_executor/cuda/cuda_executor.cc:901] successful NUMA node read from SysFS had negative value (-1), but there must be at least one NUMA node, so returning NUMA node zero. See more at https://github.com/torvalds/linux/blob/v6.0/Documentation/ABI/testing/sysfs-bus-pci#L344-L355\n",
      "2024-02-12 21:18:58.058187: I external/local_xla/xla/stream_executor/cuda/cuda_executor.cc:901] successful NUMA node read from SysFS had negative value (-1), but there must be at least one NUMA node, so returning NUMA node zero. See more at https://github.com/torvalds/linux/blob/v6.0/Documentation/ABI/testing/sysfs-bus-pci#L344-L355\n",
      "2024-02-12 21:18:58.059548: I external/local_xla/xla/stream_executor/cuda/cuda_executor.cc:901] successful NUMA node read from SysFS had negative value (-1), but there must be at least one NUMA node, so returning NUMA node zero. See more at https://github.com/torvalds/linux/blob/v6.0/Documentation/ABI/testing/sysfs-bus-pci#L344-L355\n",
      "2024-02-12 21:18:58.179291: I external/local_xla/xla/stream_executor/cuda/cuda_executor.cc:901] successful NUMA node read from SysFS had negative value (-1), but there must be at least one NUMA node, so returning NUMA node zero. See more at https://github.com/torvalds/linux/blob/v6.0/Documentation/ABI/testing/sysfs-bus-pci#L344-L355\n",
      "2024-02-12 21:18:58.180746: I external/local_xla/xla/stream_executor/cuda/cuda_executor.cc:901] successful NUMA node read from SysFS had negative value (-1), but there must be at least one NUMA node, so returning NUMA node zero. See more at https://github.com/torvalds/linux/blob/v6.0/Documentation/ABI/testing/sysfs-bus-pci#L344-L355\n",
      "2024-02-12 21:18:58.182131: I external/local_xla/xla/stream_executor/cuda/cuda_executor.cc:901] successful NUMA node read from SysFS had negative value (-1), but there must be at least one NUMA node, so returning NUMA node zero. See more at https://github.com/torvalds/linux/blob/v6.0/Documentation/ABI/testing/sysfs-bus-pci#L344-L355\n",
      "2024-02-12 21:18:58.183427: I tensorflow/core/common_runtime/gpu/gpu_device.cc:1929] Created device /job:localhost/replica:0/task:0/device:GPU:0 with 13905 MB memory:  -> device: 0, name: NVIDIA A10, pci bus id: 0000:00:04.0, compute capability: 8.6\n"
     ]
    }
   ],
   "source": [
    "model = AuraMask(32, 3)"
   ]
  },
  {
   "cell_type": "code",
   "execution_count": 3,
   "metadata": {},
   "outputs": [],
   "source": [
    "model.build((None, 512,512,3))"
   ]
  },
  {
   "cell_type": "code",
   "execution_count": 4,
   "metadata": {},
   "outputs": [
    {
     "name": "stdout",
     "output_type": "stream",
     "text": [
      "Model: \"AuraMask\"\n",
      "_________________________________________________________________\n",
      " Layer (type)                Output Shape              Param #   \n",
      "=================================================================\n",
      " UEncoder (EncoderBlock)     multiple                  10272     \n",
      "                                                                 \n",
      " UEncoder (EncoderBlock)     multiple                  55680     \n",
      "                                                                 \n",
      " UEncoder (EncoderBlock)     multiple                  221952    \n",
      "                                                                 \n",
      " UEncoder (EncoderBlock)     multiple                  886272    \n",
      "                                                                 \n",
      " UEncoder (EncoderBlock)     multiple                  3542016   \n",
      "                                                                 \n",
      " UDecoder (DecoderBlock)     multiple                  2949888   \n",
      "                                                                 \n",
      " UDecoder (DecoderBlock)     multiple                  737664    \n",
      "                                                                 \n",
      " UDecoder (DecoderBlock)     multiple                  184512    \n",
      "                                                                 \n",
      " UDecoder (DecoderBlock)     multiple                  46176     \n",
      "                                                                 \n",
      " conv2d_18 (Conv2D)          multiple                  9248      \n",
      "                                                                 \n",
      " conv2d_19 (Conv2D)          multiple                  99        \n",
      "                                                                 \n",
      "=================================================================\n",
      "Total params: 8643779 (32.97 MB)\n",
      "Trainable params: 8641795 (32.97 MB)\n",
      "Non-trainable params: 1984 (7.75 KB)\n",
      "_________________________________________________________________\n"
     ]
    }
   ],
   "source": [
    "model.summary()"
   ]
  }
 ],
 "metadata": {
  "kernelspec": {
   "display_name": "unet",
   "language": "python",
   "name": "python3"
  },
  "language_info": {
   "codemirror_mode": {
    "name": "ipython",
    "version": 3
   },
   "file_extension": ".py",
   "mimetype": "text/x-python",
   "name": "python",
   "nbconvert_exporter": "python",
   "pygments_lexer": "ipython3",
   "version": "3.11.7"
  }
 },
 "nbformat": 4,
 "nbformat_minor": 2
}
